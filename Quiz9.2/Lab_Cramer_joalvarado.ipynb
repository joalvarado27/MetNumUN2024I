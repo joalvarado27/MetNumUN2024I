{
  "nbformat": 4,
  "nbformat_minor": 0,
  "metadata": {
    "colab": {
      "provenance": []
    },
    "kernelspec": {
      "name": "python3",
      "display_name": "Python 3"
    },
    "language_info": {
      "name": "python"
    }
  },
  "cells": [
    {
      "cell_type": "markdown",
      "metadata": {
        "id": "view-in-github"
      },
      "source": [
        "<a href=\"https://colab.research.google.com/github/breynerciro/MetNumUN2024I/blob/main/Lab%209.2/bciro_LABCramer.ipynb\" target=\"_parent\"><img src=\"https://colab.research.google.com/assets/colab-badge.svg\" alt=\"Open In Colab\"/></a>"
      ]
    },
    {
      "cell_type": "markdown",
      "source": [
        "### Cramer by hand\n",
        "\n",
        "$$A = \\left[\n",
        "  \\begin{array}{cc}\n",
        "1 & 2\\\\\n",
        "3 & 4\n",
        "\\end{array}\n",
        "\\right],  \n",
        "b= \\left[\n",
        "\\begin{array}{c}\n",
        "5\\\\\n",
        "6\n",
        "\\end{array}\n",
        "\\right]\n",
        "$$\n",
        "$$\n",
        "Ax =B\n",
        "$$\n",
        "$$  \n",
        "\\left[\n",
        "  \\begin{array}{cc}\n",
        "1 & 2\\\\\n",
        "3 & 4\n",
        "\\end{array}\n",
        "\\right]\n",
        "\\left[\n",
        "\\begin{array}{c}\n",
        "x_1\\\\\n",
        "x_2\n",
        "\\end{array}\n",
        "\\right]  \n",
        "=\n",
        "\\left[\n",
        "\\begin{array}{c}\n",
        "5\\\\\n",
        "6\n",
        "\\end{array}\n",
        "\\right]\n",
        "$$\n",
        "\n",
        "$$Det\\ A =  (1 * 4) - (3 * 2)  = 4 - 6 = -2$$\n",
        "\n",
        "$$A_1 = \\left[\n",
        "  \\begin{array}{cc}\n",
        "5 & 2\\\\\n",
        "6 & 4\n",
        "\\end{array}\n",
        "\\right]\n",
        "$$\n",
        "\n",
        "$$Det\\ A_1 = (5 * 4) - (6 * 2) = 20 - 12 =  8$$\n",
        "\n",
        "$$x_1 =  \\frac{Det\\ A_1}{Det\\ A}= \\frac{8}{-2} =  -4$$\n",
        "\n",
        "$$A_2 = \\left[\n",
        "  \\begin{array}{cc}\n",
        "1 & 5\\\\\n",
        "3 & 6\n",
        "\\end{array}\n",
        "\\right]\n",
        "$$\n",
        "\n",
        "$$Det\\ A_2 = (1*6) - (3*5)  = 6 -15 = -9$$\n",
        "\n",
        "$$x_2 = \\frac{Det\\ A_2}{Det\\ A}= \\frac{-9}{-2} =  \\frac{9}{2}$$"
      ],
      "metadata": {
        "id": "SUmNm2PmfHU7"
      }
    },
    {
      "cell_type": "markdown",
      "source": [
        "- ***Adding a single digit to any number requires about 7.30 bits of processing.*** - World Mental Calculation: News and Resources for Competitive and Advanced Mental Calculation https://worldmentalcalculation.com/2019/06/30/fastest-possible-processing-speed-of-the-human-brain/\n",
        "\n",
        "- ***The human brain can process 11 million bits of information every second. But our conscious minds can handle only 40 to 50 bits of information a second.*** - Understanding Unconscious Bias https://www.npr.org/2020/07/14/891140598/understanding-unconscious-bias\n",
        "\n",
        "- ***A new way to analyze human reaction times shows that the brain processes data no faster than 60 bits per second.***- New Measure of Human Brain Processing Speed https://www.technologyreview.com/2009/08/25/210267/new-measure-of-human-brain-processing-speed/\n",
        "\n",
        "\n"
      ],
      "metadata": {
        "id": "3rH8z64pk2XV"
      }
    },
    {
      "cell_type": "markdown",
      "source": [
        "# Number of operations to compute a determinant by cofactor expasion\n",
        "- Cofactor expansion https://people.math.carleton.ca/~kcheung/math/notes/MATH1107/07/07_cofactor_expansion.html\n",
        "## Definition of A(i∣j)\n",
        "Let $A$ be an $n\\times n$ matrix. Let $i,j \\in \\{1,…,n\\}$. We define $A(i∣j)$  to be the matrix obtained from $A$ by removing row $i$ and column $j$ from $A$.\n",
        "\n",
        "## Cofactor formula\n",
        "One way of computing the determinant of an $n\\times n$  matrix\n",
        "\n",
        "$$A = \\left[\n",
        "  \\begin{array}{cccc}\n",
        "a_{11} & a_{12} & \\cdots & a_{1n}\\\\\n",
        "a_{21} & a_{22} & \\cdots & a_{2n}\\\\\n",
        "\\vdots  & \\vdots & \\ddots & \\vdots\\\\\n",
        "a_{n1} & a_{n2} & \\cdots & a_{nn}\\\\\n",
        "\\end{array}\n",
        "\\right]\n",
        "$$\n",
        "is to use the following formula called the cofactor formula.\n",
        "\n",
        "Pick either any $i\\ \\in \\{1,…,n\\}$ (fixed row) or $i\\ \\in \\{1,…,n\\}$ (fixed column). Then\n",
        "\n",
        "$$\\det(A)  = \\sum_{j=1}^n (-1)^{i+j}a_{ij} \\det(A(i∣j)) $$\n",
        "\n",
        "\n",
        "$C_{i,j}= (-1)^{i+j}a_{ij} \\det(A(i∣j))$ is called a cofactor of $A$.\n",
        "\n",
        "$$\\det(A)  = \\sum_{j=1}^n C_{i,j} $$\n",
        "\n"
      ],
      "metadata": {
        "id": "CgrSIpDOnaGQ"
      }
    },
    {
      "cell_type": "code",
      "source": [
        "# Code from https://stackoverflow.com/questions/16510111/computing-determinant-of-a-matrix-nxn-recursively\n",
        "\n",
        "import numpy as np\n",
        "\n",
        "def smaller_matrix(original_matrix,row, column):\n",
        "    for ii in range(len(original_matrix)):\n",
        "        new_matrix=np.delete(original_matrix,ii,0)\n",
        "        new_matrix=np.delete(new_matrix,column,1)\n",
        "        return new_matrix\n",
        "\n",
        "\n",
        "def determinant(matrix):\n",
        "    \"\"\"Returns a determinant of a matrix by recursive method.\"\"\"\n",
        "    (r,c) = matrix.shape\n",
        "    if r != c:\n",
        "        print(\"Error!Not a square matrix!\")\n",
        "        return None\n",
        "    elif r==2:\n",
        "        simple_determinant = matrix[0][0]*matrix[1][1]-matrix[0][1]*matrix[1][0]\n",
        "        return simple_determinant\n",
        "    else:\n",
        "        answer=0\n",
        "        for j in range(r):\n",
        "            cofactor = (-1)**(0+j) * matrix[0][j] * determinant(smaller_matrix(matrix, 0, j))\n",
        "            answer+= cofactor\n",
        "        return answer"
      ],
      "metadata": {
        "id": "J-joKRBhC7eF"
      },
      "execution_count": 1,
      "outputs": []
    },
    {
      "cell_type": "code",
      "source": [
        "#test the function\n",
        "#Only works for numpy.array input\n",
        "np.random.seed(1)"
      ],
      "metadata": {
        "id": "Il2pcRD4DptG"
      },
      "execution_count": 2,
      "outputs": []
    },
    {
      "cell_type": "code",
      "source": [
        "n = 2\n",
        "matrix=np.random.randint(-5,5,size=(n,n))\n",
        "matrix"
      ],
      "metadata": {
        "colab": {
          "base_uri": "https://localhost:8080/"
        },
        "id": "AgKC1-aiFRW2",
        "outputId": "f8ba125a-9b70-4e09-dc06-894b8f415efc"
      },
      "execution_count": 3,
      "outputs": [
        {
          "output_type": "execute_result",
          "data": {
            "text/plain": [
              "array([[0, 3],\n",
              "       [4, 0]])"
            ]
          },
          "metadata": {},
          "execution_count": 3
        }
      ]
    },
    {
      "cell_type": "code",
      "source": [
        "determinant(matrix)"
      ],
      "metadata": {
        "colab": {
          "base_uri": "https://localhost:8080/"
        },
        "outputId": "403b9c43-9887-4d85-e452-ebbffade9b30",
        "id": "oI0rUp-SDptH"
      },
      "execution_count": 4,
      "outputs": [
        {
          "output_type": "execute_result",
          "data": {
            "text/plain": [
              "-12"
            ]
          },
          "metadata": {},
          "execution_count": 4
        }
      ]
    },
    {
      "cell_type": "code",
      "source": [
        "np.linalg.det(matrix)"
      ],
      "metadata": {
        "colab": {
          "base_uri": "https://localhost:8080/"
        },
        "id": "iqZv7iK-KKXH",
        "outputId": "e5047ad5-a6d5-492b-ae88-cbfe64b089ce"
      },
      "execution_count": 5,
      "outputs": [
        {
          "output_type": "execute_result",
          "data": {
            "text/plain": [
              "-12.0"
            ]
          },
          "metadata": {},
          "execution_count": 5
        }
      ]
    },
    {
      "cell_type": "code",
      "source": [
        "round(np.linalg.det(matrix))"
      ],
      "metadata": {
        "colab": {
          "base_uri": "https://localhost:8080/"
        },
        "id": "sY21rHM-KdlO",
        "outputId": "139f732d-4e29-4c0b-b1df-8490f7bae857"
      },
      "execution_count": 6,
      "outputs": [
        {
          "output_type": "execute_result",
          "data": {
            "text/plain": [
              "-12"
            ]
          },
          "metadata": {},
          "execution_count": 6
        }
      ]
    },
    {
      "cell_type": "code",
      "source": [
        "n = 5\n",
        "matrix=np.diag(np.random.randint(-10,10,size=(n)))\n",
        "matrix"
      ],
      "metadata": {
        "colab": {
          "base_uri": "https://localhost:8080/"
        },
        "id": "-QXGZWFIDs5k",
        "outputId": "94fd48ec-bc21-4a1b-ca2a-d21012f83d1d"
      },
      "execution_count": 7,
      "outputs": [
        {
          "output_type": "execute_result",
          "data": {
            "text/plain": [
              "array([[  5,   0,   0,   0,   0],\n",
              "       [  0, -10,   0,   0,   0],\n",
              "       [  0,   0,   6,   0,   0],\n",
              "       [  0,   0,   0,  -9,   0],\n",
              "       [  0,   0,   0,   0,   2]])"
            ]
          },
          "metadata": {},
          "execution_count": 7
        }
      ]
    },
    {
      "cell_type": "code",
      "source": [
        "determinant(matrix)"
      ],
      "metadata": {
        "colab": {
          "base_uri": "https://localhost:8080/"
        },
        "id": "VP6hRwhwD-3W",
        "outputId": "67ace291-2000-4952-e094-e9106ad39112"
      },
      "execution_count": 8,
      "outputs": [
        {
          "output_type": "execute_result",
          "data": {
            "text/plain": [
              "5400"
            ]
          },
          "metadata": {},
          "execution_count": 8
        }
      ]
    },
    {
      "cell_type": "code",
      "source": [
        "np.linalg.det(matrix)"
      ],
      "metadata": {
        "colab": {
          "base_uri": "https://localhost:8080/"
        },
        "id": "8NV7Zvp-KtRz",
        "outputId": "362b5f5f-ccb4-4fdf-d0cd-b6fc74d9030c"
      },
      "execution_count": 9,
      "outputs": [
        {
          "output_type": "execute_result",
          "data": {
            "text/plain": [
              "5400.000000000003"
            ]
          },
          "metadata": {},
          "execution_count": 9
        }
      ]
    },
    {
      "cell_type": "code",
      "source": [
        "round(np.linalg.det(matrix))"
      ],
      "metadata": {
        "colab": {
          "base_uri": "https://localhost:8080/"
        },
        "id": "HXKK3weLKt5T",
        "outputId": "6dc90642-b97c-416d-fe1d-d7ceefbd8838"
      },
      "execution_count": 10,
      "outputs": [
        {
          "output_type": "execute_result",
          "data": {
            "text/plain": [
              "5400"
            ]
          },
          "metadata": {},
          "execution_count": 10
        }
      ]
    },
    {
      "cell_type": "code",
      "source": [
        "# Modified from the previous code\n",
        "import numpy as np\n",
        "\n",
        "# A a squared numpy matrix\n",
        "def det(A):\n",
        "    \"\"\"Returns a determinant of a matrix by recursive method.\"\"\"\n",
        "    (r,c) = A.shape\n",
        "    if r != c:\n",
        "        print(\"Error!Not a square matrix!\")\n",
        "        return None\n",
        "    elif r==1:\n",
        "          # the code with  r==2 is more efficient but we use this\n",
        "         # because the number of operations is easier to compute\n",
        "        return A[0][0]\n",
        "    else:\n",
        "        answer=0\n",
        "        for j in range(r):\n",
        "            s = 1 if (0+j)%2 == 0 else -1\n",
        "            Aij = np.delete(A,0,0)\n",
        "            Aij = np.delete(Aij,j,1)\n",
        "            cofactor = (s) * A[0][j] * det(Aij)\n",
        "            answer+= cofactor\n",
        "        return answer"
      ],
      "metadata": {
        "id": "B258g8lnBgnG"
      },
      "execution_count": 11,
      "outputs": []
    },
    {
      "cell_type": "code",
      "source": [
        "#test the function\n",
        "#Only works for numpy.array input\n",
        "np.random.seed(1)"
      ],
      "metadata": {
        "id": "ZR2mjlqiGdM6"
      },
      "execution_count": 12,
      "outputs": []
    },
    {
      "cell_type": "code",
      "source": [
        "n = 2\n",
        "A=np.random.randint(-5,5,size=(n,n))\n",
        "A"
      ],
      "metadata": {
        "colab": {
          "base_uri": "https://localhost:8080/"
        },
        "outputId": "a3afe9ba-3294-4dc5-b646-294bd5105a93",
        "id": "jPpBCFaoGlak"
      },
      "execution_count": 13,
      "outputs": [
        {
          "output_type": "execute_result",
          "data": {
            "text/plain": [
              "array([[0, 3],\n",
              "       [4, 0]])"
            ]
          },
          "metadata": {},
          "execution_count": 13
        }
      ]
    },
    {
      "cell_type": "code",
      "source": [
        "det(A)"
      ],
      "metadata": {
        "colab": {
          "base_uri": "https://localhost:8080/"
        },
        "outputId": "b7b9ad40-488e-487f-9e67-307becfbe21a",
        "id": "WKbuirZeGlak"
      },
      "execution_count": 14,
      "outputs": [
        {
          "output_type": "execute_result",
          "data": {
            "text/plain": [
              "-12"
            ]
          },
          "metadata": {},
          "execution_count": 14
        }
      ]
    },
    {
      "cell_type": "code",
      "source": [
        "determinant(A)"
      ],
      "metadata": {
        "colab": {
          "base_uri": "https://localhost:8080/"
        },
        "id": "_B5xBFirTvQm",
        "outputId": "ab8ce27a-c22f-4420-94e2-251d7b325824"
      },
      "execution_count": 15,
      "outputs": [
        {
          "output_type": "execute_result",
          "data": {
            "text/plain": [
              "-12"
            ]
          },
          "metadata": {},
          "execution_count": 15
        }
      ]
    },
    {
      "cell_type": "code",
      "source": [
        "np.linalg.det(A)"
      ],
      "metadata": {
        "colab": {
          "base_uri": "https://localhost:8080/"
        },
        "outputId": "df02217d-1be5-4f14-947c-0e850eaf775f",
        "id": "bRyF2dsFLbXC"
      },
      "execution_count": 16,
      "outputs": [
        {
          "output_type": "execute_result",
          "data": {
            "text/plain": [
              "-12.0"
            ]
          },
          "metadata": {},
          "execution_count": 16
        }
      ]
    },
    {
      "cell_type": "code",
      "source": [
        "round(np.linalg.det(A))"
      ],
      "metadata": {
        "colab": {
          "base_uri": "https://localhost:8080/"
        },
        "outputId": "e944c6ff-28b6-47e1-a64b-f50857286661",
        "id": "sOe1w9FPLbXD"
      },
      "execution_count": 17,
      "outputs": [
        {
          "output_type": "execute_result",
          "data": {
            "text/plain": [
              "-12"
            ]
          },
          "metadata": {},
          "execution_count": 17
        }
      ]
    },
    {
      "cell_type": "code",
      "source": [
        "n = 10\n",
        "\n",
        "A=np.random.randint(-10,10,size=(n,n))\n",
        "\n",
        "A"
      ],
      "metadata": {
        "colab": {
          "base_uri": "https://localhost:8080/"
        },
        "outputId": "ecc19b4a-8e12-4fb4-c877-b24fd23cef60",
        "id": "jzFX1soHGlak"
      },
      "execution_count": 18,
      "outputs": [
        {
          "output_type": "execute_result",
          "data": {
            "text/plain": [
              "array([[  5, -10,   6,  -9,   2,  -3,   3,  -4,   8,  -5],\n",
              "       [  8,   1,   0,   4,   8,  -6,  -1,   7, -10,   3],\n",
              "       [ -1,  -1,  -3,  -9, -10,   7,  -2,   3,   9,   5],\n",
              "       [  0,  -2,  -3,  -7,  -4,   7,  -7,  -6,   7,   1],\n",
              "       [  2,   6,   3,   9,  -1,   8,   5, -10,  -6,   5],\n",
              "       [ -8,  -3,  -2,  -1,  -7,  -3,  -6,  -5,   9,  -4],\n",
              "       [ -2, -10,  -8,   0,   5,   5,  -3,   9,   0,   4],\n",
              "       [-10,  -9,   7,   3,  -7, -10,   3,  -4,  -4,  -8],\n",
              "       [  2,   1,  -3,   3,  -2,   1,   2,   1,  -6,  -3],\n",
              "       [ -3,   3,  -6,   6,   8, -10,   3,   0,   7,  -3]])"
            ]
          },
          "metadata": {},
          "execution_count": 18
        }
      ]
    },
    {
      "cell_type": "code",
      "source": [
        "import time\n",
        "\n",
        "start_time = time.time()\n",
        "d = det(A)\n",
        "end_time = time.time()"
      ],
      "metadata": {
        "id": "I97qAqxGGlak"
      },
      "execution_count": 19,
      "outputs": []
    },
    {
      "cell_type": "code",
      "source": [
        "print(\"det(A): \",d)\n",
        "print(\"time: \",end_time - start_time)"
      ],
      "metadata": {
        "colab": {
          "base_uri": "https://localhost:8080/"
        },
        "id": "s7Ud-gBiTD0n",
        "outputId": "f861cfe7-49be-44ab-abb7-7ead34be12f1"
      },
      "execution_count": 20,
      "outputs": [
        {
          "output_type": "stream",
          "name": "stdout",
          "text": [
            "det(A):  29129065307\n",
            "time:  72.13004207611084\n"
          ]
        }
      ]
    },
    {
      "cell_type": "code",
      "source": [
        "import time\n",
        "\n",
        "start_time = time.time()\n",
        "d = determinant(A)\n",
        "end_time = time.time()"
      ],
      "metadata": {
        "id": "kjLXFQOeTRd2"
      },
      "execution_count": 21,
      "outputs": []
    },
    {
      "cell_type": "code",
      "source": [
        "print(\"determinant(A): \",d)\n",
        "print(\"time: \",end_time - start_time)"
      ],
      "metadata": {
        "colab": {
          "base_uri": "https://localhost:8080/"
        },
        "id": "_TQFWy4ZSiDZ",
        "outputId": "6ca55df7-3bed-474d-d6be-399b0a71ba6d"
      },
      "execution_count": 22,
      "outputs": [
        {
          "output_type": "stream",
          "name": "stdout",
          "text": [
            "determinant(A):  29129065307\n",
            "time:  34.193320751190186\n"
          ]
        }
      ]
    },
    {
      "cell_type": "code",
      "source": [
        "import time\n",
        "\n",
        "start_time = time.time()\n",
        "d = np.linalg.det(A)\n",
        "end_time = time.time()"
      ],
      "metadata": {
        "id": "jL23i77VT55-"
      },
      "execution_count": 23,
      "outputs": []
    },
    {
      "cell_type": "code",
      "source": [
        "print(\"np.linalg.det(A): \",d)\n",
        "print(\"time: \",end_time - start_time)"
      ],
      "metadata": {
        "colab": {
          "base_uri": "https://localhost:8080/"
        },
        "id": "n94nx14VT5wn",
        "outputId": "9064a632-d585-4e26-b89c-74555237b812"
      },
      "execution_count": 24,
      "outputs": [
        {
          "output_type": "stream",
          "name": "stdout",
          "text": [
            "np.linalg.det(A):  29129065306.99992\n",
            "time:  0.00029349327087402344\n"
          ]
        }
      ]
    },
    {
      "cell_type": "markdown",
      "source": [
        "# Estimating the time by instruction in Python in a Colab machine"
      ],
      "metadata": {
        "id": "Ssedt2z56DNC"
      }
    },
    {
      "cell_type": "code",
      "source": [
        "import numpy as np\n",
        "\n",
        "n = 100\n",
        "\n",
        "A = np.ones((n,n))\n",
        "\n",
        "A"
      ],
      "metadata": {
        "colab": {
          "base_uri": "https://localhost:8080/"
        },
        "id": "1KhlyeNi4uwa",
        "outputId": "bb91e36f-ed10-46ab-d894-21f0c10e68c8"
      },
      "execution_count": 25,
      "outputs": [
        {
          "output_type": "execute_result",
          "data": {
            "text/plain": [
              "array([[1., 1., 1., ..., 1., 1., 1.],\n",
              "       [1., 1., 1., ..., 1., 1., 1.],\n",
              "       [1., 1., 1., ..., 1., 1., 1.],\n",
              "       ...,\n",
              "       [1., 1., 1., ..., 1., 1., 1.],\n",
              "       [1., 1., 1., ..., 1., 1., 1.],\n",
              "       [1., 1., 1., ..., 1., 1., 1.]])"
            ]
          },
          "metadata": {},
          "execution_count": 25
        }
      ]
    },
    {
      "cell_type": "code",
      "source": [
        "B = np.ones((n,n))\n",
        "\n",
        "B"
      ],
      "metadata": {
        "colab": {
          "base_uri": "https://localhost:8080/"
        },
        "id": "RKtHO3UY5M87",
        "outputId": "906e3c31-ff02-421d-a394-b998ac51b2ea"
      },
      "execution_count": 26,
      "outputs": [
        {
          "output_type": "execute_result",
          "data": {
            "text/plain": [
              "array([[1., 1., 1., ..., 1., 1., 1.],\n",
              "       [1., 1., 1., ..., 1., 1., 1.],\n",
              "       [1., 1., 1., ..., 1., 1., 1.],\n",
              "       ...,\n",
              "       [1., 1., 1., ..., 1., 1., 1.],\n",
              "       [1., 1., 1., ..., 1., 1., 1.],\n",
              "       [1., 1., 1., ..., 1., 1., 1.]])"
            ]
          },
          "metadata": {},
          "execution_count": 26
        }
      ]
    },
    {
      "cell_type": "code",
      "source": [
        "import time\n",
        "\n",
        "C= np.zeros((n,n))\n",
        "\n",
        "start_time = time.time()\n",
        "for i in range(n):\n",
        "        for j in range(n):\n",
        "            C[i][j] = 0\n",
        "            for k in range(len(A[0])):\n",
        "                C[i][j] += A[i][k] * B[k][j]\n",
        "end_time = time.time()\n",
        "print(end_time - start_time)"
      ],
      "metadata": {
        "colab": {
          "base_uri": "https://localhost:8080/"
        },
        "id": "0UFSLi-F5P0a",
        "outputId": "bd966a01-a4e3-4e17-fcd2-777623689c72"
      },
      "execution_count": 27,
      "outputs": [
        {
          "output_type": "stream",
          "name": "stdout",
          "text": [
            "1.2099361419677734\n"
          ]
        }
      ]
    },
    {
      "cell_type": "code",
      "source": [
        "C"
      ],
      "metadata": {
        "colab": {
          "base_uri": "https://localhost:8080/"
        },
        "id": "h9zr4Z9P61bs",
        "outputId": "599f8db5-dcbb-462c-ab5e-2b89b4a23ab0"
      },
      "execution_count": 28,
      "outputs": [
        {
          "output_type": "execute_result",
          "data": {
            "text/plain": [
              "array([[100., 100., 100., ..., 100., 100., 100.],\n",
              "       [100., 100., 100., ..., 100., 100., 100.],\n",
              "       [100., 100., 100., ..., 100., 100., 100.],\n",
              "       ...,\n",
              "       [100., 100., 100., ..., 100., 100., 100.],\n",
              "       [100., 100., 100., ..., 100., 100., 100.],\n",
              "       [100., 100., 100., ..., 100., 100., 100.]])"
            ]
          },
          "metadata": {},
          "execution_count": 28
        }
      ]
    },
    {
      "cell_type": "code",
      "source": [
        "time_by_oper_python = (end_time - start_time)/(2*n**3 - n**2)\n",
        "\n",
        "time_by_oper_python"
      ],
      "metadata": {
        "colab": {
          "base_uri": "https://localhost:8080/"
        },
        "id": "iEhaMEK77Ko7",
        "outputId": "19048277-900f-4938-8876-368aa6cb736e"
      },
      "execution_count": 29,
      "outputs": [
        {
          "output_type": "execute_result",
          "data": {
            "text/plain": [
              "6.080081115415947e-07"
            ]
          },
          "metadata": {},
          "execution_count": 29
        }
      ]
    },
    {
      "cell_type": "code",
      "source": [
        "import time\n",
        "import numpy as np\n",
        "\n",
        "start_time = time.time()\n",
        "C = A@B\n",
        "end_time = time.time()\n",
        "print(end_time - start_time)"
      ],
      "metadata": {
        "colab": {
          "base_uri": "https://localhost:8080/"
        },
        "id": "TfGsw6UF9o-a",
        "outputId": "01bc8949-e24c-4f5d-e7cd-7107201dd673"
      },
      "execution_count": 30,
      "outputs": [
        {
          "output_type": "stream",
          "name": "stdout",
          "text": [
            "0.006001710891723633\n"
          ]
        }
      ]
    },
    {
      "cell_type": "code",
      "source": [
        "C"
      ],
      "metadata": {
        "colab": {
          "base_uri": "https://localhost:8080/"
        },
        "id": "Q5MtZtVT93oQ",
        "outputId": "aaf5b67f-2fa3-42a0-f64a-5b465ef526a1"
      },
      "execution_count": 31,
      "outputs": [
        {
          "output_type": "execute_result",
          "data": {
            "text/plain": [
              "array([[100., 100., 100., ..., 100., 100., 100.],\n",
              "       [100., 100., 100., ..., 100., 100., 100.],\n",
              "       [100., 100., 100., ..., 100., 100., 100.],\n",
              "       ...,\n",
              "       [100., 100., 100., ..., 100., 100., 100.],\n",
              "       [100., 100., 100., ..., 100., 100., 100.],\n",
              "       [100., 100., 100., ..., 100., 100., 100.]])"
            ]
          },
          "metadata": {},
          "execution_count": 31
        }
      ]
    },
    {
      "cell_type": "code",
      "source": [
        "time_by_oper_numpy = (end_time - start_time)/(2*n**3 - n**2)\n",
        "\n",
        "time_by_oper_numpy"
      ],
      "metadata": {
        "colab": {
          "base_uri": "https://localhost:8080/"
        },
        "id": "DTVYQYxT-TsJ",
        "outputId": "51f8d297-11a4-4b94-e162-2cdb941727a0"
      },
      "execution_count": 32,
      "outputs": [
        {
          "output_type": "execute_result",
          "data": {
            "text/plain": [
              "3.015935121469162e-09"
            ]
          },
          "metadata": {},
          "execution_count": 32
        }
      ]
    },
    {
      "cell_type": "markdown",
      "source": [
        "# Time estimation for the digital computer computation of a 3 x 3 matrix determinant by cofactor expansion\n",
        "\n",
        "The number of operations $(+,-,*)$ perfomed  *det(A)* algorithm that calculates\n",
        "\n",
        "$$\\det(A)  = \\sum_{j=1}^n (-1)^{i+j}a_{ij} \\det(A(i∣j)) $$\n",
        "\n",
        "is given by\n",
        "\n",
        "$$\\begin{array}{lll}\n",
        "T(n) & =&  nT(n-1) + 5n , T(1) = 1\\\\\n",
        "\\end{array}\n",
        "$$\n",
        "\n",
        "$$\\begin{array}{lll}\n",
        "T(n) & =&  nT(n-1) + 5n\\\\\n",
        "     & =&  n[(n-1) T(n-2) + 5 (n-1) +10] + 5n  \\\\\n",
        "     & =&  n(n-1) T(n-2) + 5 n  (n-1) + 5n \\\\\n",
        "     & =&  n(n-1) [(n-2) T(n-3) + 5 (n-2)] + 5 n(n-1) + 5n\\\\\n",
        "     & = & n(n-1)(n-2) T(n-3) + 5n(n-1)(n-2)+  5 n  (n-1) + 5n \\\\\n",
        "     & \\vdots\\\\\n",
        "     & = &  n(n-1)(n-2)\\cdots (n -(n-2))  T(1) + [5n(n-1)(n-2)(n-3)\\cdots (n -(n-3))] + \\cdots + [5 n (n-1)]+ 5n \\\\\n",
        "    & = & n! + [5n(n-1)(n-2)(n-3)\\cdots 2] + [5n(n-1)(n-2)(n-3)\\cdots 3]+ \\cdots +[5 n (n-1) (n-3)] + [5 n (n-1)]+ 5n  \n",
        "\\end{array}\n",
        "$$\n",
        "\n",
        "$$T(n) = n! + 5 \\sum_{i=0}^{n-1} n!/i! = n! + 5 n!\\sum_{i=0}^{n-1} \\frac{1}{i!} < n! + 5 e n! < 16 n!  $$\n",
        "\n",
        "1. Asumming that an arithmetic operation takes the *time_by_oper_python* estimated before,  what is the maximun square matrix size for which the deteminant can be computed with cofactor extesion in $\\le$ 3 minute. Report the time at [LABCramer](https://docs.google.com/spreadsheets/d/1JNUbuj3QHcyPmp8i6kNreUFucj2mOvKHkCFHHy7zfws/edit?usp=sharing).\n",
        "\n",
        "2. Run an experiment with a random matrix of that size and report the time at [LABCramer](https://docs.google.com/spreadsheets/d/1JNUbuj3QHcyPmp8i6kNreUFucj2mOvKHkCFHHy7zfws/edit?usp=sharing).\n",
        "\n",
        "If the determinant of a $n \\times n$ square matrix takes $16 n!$ operations how much takes the Crammer solution of $n \\times n$ systems of linear equations?\n",
        "\n",
        "\n",
        "\n",
        "\n"
      ],
      "metadata": {
        "id": "PhAai3wzo_Tc"
      }
    },
    {
      "cell_type": "markdown",
      "source": [
        "#Primero"
      ],
      "metadata": {
        "id": "iavN9Bdj8RJ4"
      }
    },
    {
      "cell_type": "code",
      "source": [
        "import math\n",
        "import time\n",
        "\n",
        "time_limit_seconds = 3 * 60\n",
        "tamano_max = 1\n",
        "time_by_oper_python = 5.8 * 10**(-7)\n",
        "\n",
        "def operaciones(n):\n",
        "    factorial_n = math.factorial(n)\n",
        "    e_approx = math.e\n",
        "    return factorial_n + 5 * e_approx * factorial_n\n",
        "\n",
        "while True:\n",
        "    time_required = operaciones(tamano_max) * time_by_oper_python\n",
        "    if time_required > time_limit_seconds:\n",
        "        break\n",
        "    tamano_max += 1\n",
        "\n",
        "print(f\"Tamano max matriz: {tamano_max - 1}\")\n",
        "print(f\"Tiempo de ejecucion en segundos: {operaciones(tamano_max - 1) * time_by_oper_python}\")\n"
      ],
      "metadata": {
        "colab": {
          "base_uri": "https://localhost:8080/"
        },
        "id": "1GIYixURGxFx",
        "outputId": "337a7902-c6ad-4d69-fb08-4d1aaaefa796"
      },
      "execution_count": 33,
      "outputs": [
        {
          "output_type": "stream",
          "name": "stdout",
          "text": [
            "Tamano max matriz: 10\n",
            "Tiempo de ejecucion en segundos: 30.71059718742533\n"
          ]
        }
      ]
    },
    {
      "cell_type": "markdown",
      "source": [
        "#Segundo"
      ],
      "metadata": {
        "id": "DdWIcAXT8Lf6"
      }
    },
    {
      "cell_type": "code",
      "source": [
        "tamano = 10\n",
        "matriz = np.random.randint(-5,5,size=(tamano,tamano))\n",
        "\n",
        "start_time = time.time()\n",
        "determinant = det(matriz)\n",
        "end_time = time.time()\n",
        "print(\"Tiempo en segundos: \",end_time - start_time)\n",
        "print(\"Determinant: \", determinant)"
      ],
      "metadata": {
        "id": "53bAH6ua7FS2",
        "outputId": "4a13f0aa-55d4-49f9-cd60-a281607355e0",
        "colab": {
          "base_uri": "https://localhost:8080/"
        }
      },
      "execution_count": 36,
      "outputs": [
        {
          "output_type": "stream",
          "name": "stdout",
          "text": [
            "Tiempo en segundos: 71.88276958465576\n",
            "Determinant: 0.0121471420699952\n"
          ]
        }
      ]
    },
    {
      "cell_type": "markdown",
      "source": [
        "# Time estimation for the human computer computation of a 3 x 3 matrix determinant by cofactor expansion\n",
        "\n",
        " Write a 3 x 3 matrix with the first element as your list number Mod 10 and the rest row by row 1,2,3,...9 skipimg the first element, by example if youir list number is 12, your list number Mod 10 is 2 and the matrix is\n",
        "$$A = \\left[\n",
        "  \\begin{array}{ccc}\n",
        "2 & 1 & 3\\\\\n",
        "4 & 5 & 6\\\\\n",
        "7 & 8 & 9\\\\\n",
        "\\end{array}\n",
        "\\right]\n",
        "$$\n",
        "Use a chronometer like http://online-stopwatch.chronme.com/ to estimate the time to compute the determinant by using the procedure in the follo wing exmaple (https://people.math.carleton.ca/~kcheung/math/notes/MATH1107/07/07_cofactor_expansion.html):<br />  \n",
        "Let\n",
        "$$A = \\begin{bmatrix} 1 & 2 & 3\\\\ 4 & 5 & 6\\\\ 7 & 8 & 9 \\end{bmatrix}$$\n",
        "we compute $\\det(A)$ by expanding along row $2$ as <br /> <br />\n",
        "$$\\begin{eqnarray} \\det(A) & = & (-1)^{2+1}A_{2,1}\\det(A(2 \\mid 1)) + (-1)^{2+2}A_{2,2}\\det(A(2 \\mid 2)) + (-1)^{2+3}A_{2,3}\\det(A(2 \\mid 3)) \\\\ & = & -4\\left|\\begin{matrix} 2 & 3 \\\\ 8 & 9\\end{matrix}\\right| + 5\\left|\\begin{matrix} 1 & 3 \\\\ 7 & 9\\end{matrix}\\right| - 6\\left|\\begin{matrix} 1 & 2 \\\\ 7 & 8\\end{matrix}\\right| \\\\ & = & -4(2\\cdot 9 - 3\\cdot 8) + 5(1 \\cdot 9- 3\\cdot 7) - 6(1\\cdot 8 - 2 \\cdot 7) \\\\ & = & 24 - 60 + 36 \\\\ & = & 0 \\end{eqnarray}$$\n",
        "3. Report the time at [LABCramer](https://docs.google.com/spreadsheets/d/1JNUbuj3QHcyPmp8i6kNreUFucj2mOvKHkCFHHy7zfws/edit?usp=sharing)\n",
        "4. Report the value of the determinant at [LABCramer](https://docs.google.com/spreadsheets/d/1JNUbuj3QHcyPmp8i6kNreUFucj2mOvKHkCFHHy7zfws/edit?usp=sharing)\n"
      ],
      "metadata": {
        "id": "__brdhGadAXY"
      }
    },
    {
      "cell_type": "markdown",
      "source": [
        "#Tercero\n",
        "\n",
        "**Numero de lista: 4**\n",
        "\n",
        "$$A = \\left[\n",
        "  \\begin{array}{ccc}\n",
        "4 & 1 & 2\\\\\n",
        "3 & 5 & 6\\\\\n",
        "7 & 8 & 9\\\\\n",
        "\\end{array}\n",
        "\\right]\n",
        "$$"
      ],
      "metadata": {
        "id": "jghmt0zj8I_9"
      }
    },
    {
      "cell_type": "markdown",
      "source": [
        "![image.png](data:image/png;base64,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)"
      ],
      "metadata": {
        "id": "7FTqECOmYqum"
      }
    },
    {
      "cell_type": "markdown",
      "source": [
        "#Cuarto"
      ],
      "metadata": {
        "id": "u4tQpSyI98l8"
      }
    },
    {
      "cell_type": "markdown",
      "source": [
        "**Resultado Determinante:** -19"
      ],
      "metadata": {
        "id": "BTmoGQkB-AvW"
      }
    }
  ]
}